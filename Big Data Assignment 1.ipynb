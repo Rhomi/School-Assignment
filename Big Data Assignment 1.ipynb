{
 "cells": [
  {
   "cell_type": "markdown",
   "metadata": {},
   "source": [
    "## Import Cassandra\n",
    "Create a Cassandra Session and connect to the target keyspace"
   ]
  },
  {
   "cell_type": "code",
   "execution_count": 19,
   "metadata": {
    "collapsed": false
   },
   "outputs": [],
   "source": [
    "from cassandra.cluster import Cluster\n",
    "cluster = Cluster()\n",
    "session = cluster.connect('carpooler')"
   ]
  },
  {
   "cell_type": "markdown",
   "metadata": {},
   "source": [
    "##### Hurray!!! We are done with the setup. Now we could start running our queries."
   ]
  },
  {
   "cell_type": "code",
   "execution_count": 20,
   "metadata": {
    "collapsed": true
   },
   "outputs": [],
   "source": [
    "# Run a basic select all query\n",
    "result = session.execute(\"select * from rides\")"
   ]
  },
  {
   "cell_type": "code",
   "execution_count": 21,
   "metadata": {
    "collapsed": false
   },
   "outputs": [
    {
     "data": {
      "text/plain": [
       "cassandra.cluster.ResultSet"
      ]
     },
     "execution_count": 21,
     "metadata": {},
     "output_type": "execute_result"
    }
   ],
   "source": [
    "# Checking the type of the result object\n",
    "type(result)"
   ]
  },
  {
   "cell_type": "code",
   "execution_count": 22,
   "metadata": {
    "collapsed": false
   },
   "outputs": [
    {
     "data": {
      "text/plain": [
       "[u'ride_id', u'price', u'rider_name', u'sharer_name', u'surge']"
      ]
     },
     "execution_count": 22,
     "metadata": {},
     "output_type": "execute_result"
    }
   ],
   "source": [
    "# What columns do we have in our result object??\n",
    "result.column_names"
   ]
  },
  {
   "cell_type": "markdown",
   "metadata": {},
   "source": [
    "#### Now, lets see what our query has returned"
   ]
  },
  {
   "cell_type": "code",
   "execution_count": 23,
   "metadata": {
    "collapsed": false
   },
   "outputs": [
    {
     "name": "stdout",
     "output_type": "stream",
     "text": [
      "[Row(ride_id=1, price=17.549999237060547, rider_name=u'John Macon', sharer_name=u'John Wick', surge=u'X'),\n",
      " Row(ride_id=2, price=31.75, rider_name=u'Victor Von Doom', sharer_name=u'Wolf Logan', surge=u'XX'),\n",
      " Row(ride_id=4, price=12.40999984741211, rider_name=u'Norah Jones', sharer_name=u'Kendra Sheen', surge=u'X'),\n",
      " Row(ride_id=6, price=12.0, rider_name=u'Mark Chiachiari', sharer_name=u'Nickolas Madre', surge=u'X')]\n"
     ]
    }
   ],
   "source": [
    "import pprint\n",
    "pprint.pprint(result.current_rows)"
   ]
  },
  {
   "cell_type": "markdown",
   "metadata": {},
   "source": [
    "### Try All CRUD Operations"
   ]
  },
  {
   "cell_type": "markdown",
   "metadata": {},
   "source": [
    "#### Let's INSERT a new row into our Rides Table"
   ]
  },
  {
   "cell_type": "code",
   "execution_count": 24,
   "metadata": {
    "collapsed": false
   },
   "outputs": [
    {
     "data": {
      "text/plain": [
       "<cassandra.cluster.ResultSet at 0x6f2aeb8>"
      ]
     },
     "execution_count": 24,
     "metadata": {},
     "output_type": "execute_result"
    }
   ],
   "source": [
    "session.execute(\"\"\"insert into rides (ride_id, price, rider_name, sharer_name, surge) \n",
    "                values (7, 8.00, 'John Hannigan', 'Lee Roy', 'XX')\"\"\")"
   ]
  },
  {
   "cell_type": "code",
   "execution_count": 25,
   "metadata": {
    "collapsed": false
   },
   "outputs": [
    {
     "name": "stdout",
     "output_type": "stream",
     "text": [
      "[Row(ride_id=1, price=17.549999237060547, rider_name=u'John Macon', sharer_name=u'John Wick', surge=u'X'),\n",
      " Row(ride_id=2, price=31.75, rider_name=u'Victor Von Doom', sharer_name=u'Wolf Logan', surge=u'XX'),\n",
      " Row(ride_id=4, price=12.40999984741211, rider_name=u'Norah Jones', sharer_name=u'Kendra Sheen', surge=u'X'),\n",
      " Row(ride_id=7, price=8.0, rider_name=u'John Hannigan', sharer_name=u'Lee Roy', surge=u'XX'),\n",
      " Row(ride_id=6, price=12.0, rider_name=u'Mark Chiachiari', sharer_name=u'Nickolas Madre', surge=u'X')]\n"
     ]
    }
   ],
   "source": [
    "#### Lets create a function that queries the table for us to make our lives easier\n",
    "def get_all_rows():\n",
    "    result = session.execute(\"select * from rides\")\n",
    "    pprint.pprint(result.current_rows)\n",
    "get_all_rows()"
   ]
  },
  {
   "cell_type": "code",
   "execution_count": 12,
   "metadata": {
    "collapsed": false
   },
   "outputs": [
    {
     "data": {
      "text/plain": [
       "[Row(ride_id=7, price=8.0, rider_name=u'John Hannigan', sharer_name=u'Lee Roy', surge=u'XX')]"
      ]
     },
     "execution_count": 12,
     "metadata": {},
     "output_type": "execute_result"
    }
   ],
   "source": [
    "result = session.execute(\"select * from rides where ride_id=7\")\n",
    "result.current_rows"
   ]
  },
  {
   "cell_type": "markdown",
   "metadata": {},
   "source": [
    "#### UPDATE a Record"
   ]
  },
  {
   "cell_type": "code",
   "execution_count": 26,
   "metadata": {
    "collapsed": false
   },
   "outputs": [],
   "source": [
    "# Change the surge for our latest ride from XX to X\n",
    "update = session.execute(\"update rides set surge = 'X' where ride_id =7\")"
   ]
  },
  {
   "cell_type": "code",
   "execution_count": 27,
   "metadata": {
    "collapsed": false
   },
   "outputs": [
    {
     "data": {
      "text/plain": [
       "[Row(ride_id=7, price=8.0, rider_name=u'John Hannigan', sharer_name=u'Lee Roy', surge=u'X')]"
      ]
     },
     "execution_count": 27,
     "metadata": {},
     "output_type": "execute_result"
    }
   ],
   "source": [
    "# Check the result after update\n",
    "result = session.execute(\"select * from rides where ride_id=7\")\n",
    "result.current_rows"
   ]
  },
  {
   "cell_type": "markdown",
   "metadata": {},
   "source": [
    "#### DELETE a Record"
   ]
  },
  {
   "cell_type": "code",
   "execution_count": 28,
   "metadata": {
    "collapsed": false
   },
   "outputs": [
    {
     "data": {
      "text/plain": [
       "<cassandra.cluster.ResultSet at 0x6f34dd8>"
      ]
     },
     "execution_count": 28,
     "metadata": {},
     "output_type": "execute_result"
    }
   ],
   "source": [
    "session.execute(\"delete from rides where ride_id = 7\")"
   ]
  },
  {
   "cell_type": "code",
   "execution_count": 29,
   "metadata": {
    "collapsed": false
   },
   "outputs": [
    {
     "name": "stdout",
     "output_type": "stream",
     "text": [
      "[Row(ride_id=1, price=17.549999237060547, rider_name=u'John Macon', sharer_name=u'John Wick', surge=u'X'),\n",
      " Row(ride_id=2, price=31.75, rider_name=u'Victor Von Doom', sharer_name=u'Wolf Logan', surge=u'XX'),\n",
      " Row(ride_id=4, price=12.40999984741211, rider_name=u'Norah Jones', sharer_name=u'Kendra Sheen', surge=u'X'),\n",
      " Row(ride_id=6, price=12.0, rider_name=u'Mark Chiachiari', sharer_name=u'Nickolas Madre', surge=u'X')]\n"
     ]
    }
   ],
   "source": [
    "# Now lets check what our table contains\n",
    "get_all_rows()"
   ]
  },
  {
   "cell_type": "code",
   "execution_count": 30,
   "metadata": {
    "collapsed": false
   },
   "outputs": [
    {
     "data": {
      "text/plain": [
       "[]"
      ]
     },
     "execution_count": 30,
     "metadata": {},
     "output_type": "execute_result"
    }
   ],
   "source": [
    "# The row has been removed. But just to be sure about it, let's lookup that particular ride_id\n",
    "result = session.execute(\"select * from rides where ride_id=7\")\n",
    "result.current_rows"
   ]
  },
  {
   "cell_type": "markdown",
   "metadata": {},
   "source": [
    "It is an empty result set and hence our delete has gone through."
   ]
  },
  {
   "cell_type": "code",
   "execution_count": 18,
   "metadata": {
    "collapsed": false
   },
   "outputs": [
    {
     "name": "stdout",
     "output_type": "stream",
     "text": [
      "[Row(ride_id=1, price=17.549999237060547, rider_name=u'John Macon', sharer_name=u'John Wick', surge=u'X'),\n",
      " Row(ride_id=2, price=31.75, rider_name=u'Victor Von Doom', sharer_name=u'Wolf Logan', surge=u'XX'),\n",
      " Row(ride_id=4, price=12.40999984741211, rider_name=u'Norah Jones', sharer_name=u'Kendra Sheen', surge=u'X'),\n",
      " Row(ride_id=6, price=12.0, rider_name=u'Mark Chiachiari', sharer_name=u'Nickolas Madre', surge=u'X')]\n"
     ]
    }
   ],
   "source": [
    "get_all_rows()"
   ]
  },
  {
   "cell_type": "code",
   "execution_count": null,
   "metadata": {
    "collapsed": true
   },
   "outputs": [],
   "source": []
  },
  {
   "cell_type": "code",
   "execution_count": null,
   "metadata": {
    "collapsed": true
   },
   "outputs": [],
   "source": []
  }
 ],
 "metadata": {
  "anaconda-cloud": {},
  "kernelspec": {
   "display_name": "Python [default]",
   "language": "python",
   "name": "python2"
  },
  "language_info": {
   "codemirror_mode": {
    "name": "ipython",
    "version": 2
   },
   "file_extension": ".py",
   "mimetype": "text/x-python",
   "name": "python",
   "nbconvert_exporter": "python",
   "pygments_lexer": "ipython2",
   "version": "2.7.12"
  }
 },
 "nbformat": 4,
 "nbformat_minor": 1
}
